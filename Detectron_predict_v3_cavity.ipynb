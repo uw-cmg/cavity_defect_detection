{
  "nbformat": 4,
  "nbformat_minor": 0,
  "metadata": {
    "accelerator": "GPU",
    "colab": {
      "name": "Detectron_predict_v3.ipynb",
      "provenance": [],
      "collapsed_sections": [],
      "machine_shape": "hm"
    },
    "kernelspec": {
      "display_name": "Python 3",
      "name": "python3"
    }
  },
  "cells": [
    {
      "cell_type": "markdown",
      "metadata": {
        "id": "kLG6uTDov8PP"
      },
      "source": [
        "Mount Gdrive to Google Colab"
      ]
    },
    {
      "cell_type": "code",
      "metadata": {
        "id": "rZ1wlQvlv-A7"
      },
      "source": [
        "from google.colab import drive\n",
        "drive.mount('/content/drive')"
      ],
      "execution_count": null,
      "outputs": []
    },
    {
      "cell_type": "markdown",
      "metadata": {
        "id": "MyKYr8Erv_yj"
      },
      "source": [
        "To see which version of Detectron2 should be installed, we examine the torch and cuda versions:\n"
      ]
    },
    {
      "cell_type": "code",
      "metadata": {
        "id": "uwNx5B-hUhq-"
      },
      "source": [
        "import torch, torchvision\n",
        "print(torch.__version__, torchvision.__version__, torch.cuda.is_available())"
      ],
      "execution_count": null,
      "outputs": []
    },
    {
      "cell_type": "markdown",
      "metadata": {
        "id": "3kasCPe-wNiL"
      },
      "source": [
        "As of this writing, the torch version is 1.8 and CUDA is 10.1, so we install the following version below. See https://detectron2.readthedocs.io/tutorials/install.html for instructions\n"
      ]
    },
    {
      "cell_type": "code",
      "metadata": {
        "id": "VkQfbgwOu6Sx"
      },
      "source": [
        "!pip install pyyaml==5.1 pycocotools>=2.0.1\n",
        "!pip install detectron2 -f https://dl.fbaipublicfiles.com/detectron2/wheels/cu101/torch1.8/index.html"
      ],
      "execution_count": null,
      "outputs": []
    },
    {
      "cell_type": "markdown",
      "metadata": {
        "id": "Apu6UvOyuGoW"
      },
      "source": [
        "Need to restart the runtime prior to using. Go to Runtime -> Restart Runtime\n"
      ]
    },
    {
      "cell_type": "markdown",
      "metadata": {
        "id": "0Lkz8beDwe_A"
      },
      "source": [
        "Need figshare API to get model weights from remote source\n"
      ]
    },
    {
      "cell_type": "code",
      "metadata": {
        "id": "9_Su5Pl1gJuY"
      },
      "source": [
        "!git clone https://github.com/cognoma/figshare.git\n",
        "!python figshare/setup.py install"
      ],
      "execution_count": null,
      "outputs": []
    },
    {
      "cell_type": "markdown",
      "metadata": {
        "id": "MNI7mM78wi7X"
      },
      "source": [
        "Download the images and saved model from Figshare"
      ]
    },
    {
      "cell_type": "code",
      "metadata": {
        "id": "k5EPbe1p1vfG"
      },
      "source": [
        "from figshare.figshare.figshare import Figshare\n",
        "fs = Figshare()\n",
        "article_id = 14691207 #MaskRCNN Object detection Figshare data\n",
        "fs.retrieve_files_from_article(article_id)"
      ],
      "execution_count": null,
      "outputs": []
    },
    {
      "cell_type": "code",
      "metadata": {
        "id": "J6qc5VuPLnhV"
      },
      "source": [
        "!unzip figshare_14691207/MaskRCNNObjectDetection.zip "
      ],
      "execution_count": null,
      "outputs": []
    },
    {
      "cell_type": "markdown",
      "metadata": {
        "id": "pffVw5faV2Py"
      },
      "source": [
        "\n",
        "\n",
        "Here, the user sets the path to the folder of images to predict on, the values of NM_PER_PIXEL_LIST for each image, and the savepath to save the images with predictions, and key statistics in excel format\n"
      ]
    },
    {
      "cell_type": "code",
      "metadata": {
        "id": "j7jm5y89Oxx5"
      },
      "source": [
        "IMAGE_PATH = 'MaskRCNNObjectDetection/images'\n",
        "NM_PER_PIXEL_LIST = [0.5] # Enter a nm/pixel conversion factor for each image in test set \n",
        "SAVE_PATH = '/content/drive/My Drive/MaskRCNN_detection'\n",
        "\n",
        "#############################################################################################\n",
        "\n",
        "import os\n",
        "import sys\n",
        "NUM_CLASSES = 3\n",
        "CLASS_NAMES = ['bd', '111', '100']\n",
        "CLASS_COLORS = [(0, 0, 255), (255, 0, 0), (255, 255, 0)]\n",
        "sys.path.append('MaskRCNNObjectDetection/code') \n",
        "MODEL_PATH = 'MaskRCNNObjectDetection/model/model_final.pth' \n",
        "IMAGE_LIST = sorted(i for i in os.listdir(IMAGE_PATH))\n",
        "\n"
      ],
      "execution_count": null,
      "outputs": []
    },
    {
      "cell_type": "code",
      "metadata": {
        "colab": {
          "background_save": true
        },
        "id": "ZNFjRAI7QzMZ"
      },
      "source": [
        "import make_object_predictions\n",
        "make_object_predictions.run(IMAGE_LIST, IMAGE_PATH, MODEL_PATH, SAVE_PATH, \n",
        "                            NM_PER_PIXEL_LIST, NUM_CLASSES, CLASS_NAMES, CLASS_COLORS,\n",
        "                            MAKE_SIZE_HIST=True)"
      ],
      "execution_count": null,
      "outputs": []
    }
  ]
}