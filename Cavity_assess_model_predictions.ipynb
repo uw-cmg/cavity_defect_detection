{
  "nbformat": 4,
  "nbformat_minor": 0,
  "metadata": {
    "accelerator": "GPU",
    "colab": {
      "provenance": [],
      "gpuType": "T4"
    },
    "kernelspec": {
      "display_name": "Python 3",
      "name": "python3"
    }
  },
  "cells": [
    {
      "cell_type": "markdown",
      "metadata": {
        "id": "kLG6uTDov8PP"
      },
      "source": [
        "Mount Gdrive to Google Colab"
      ]
    },
    {
      "cell_type": "code",
      "metadata": {
        "id": "rZ1wlQvlv-A7",
        "colab": {
          "base_uri": "https://localhost:8080/"
        },
        "outputId": "dd0ae409-b52b-4656-eb6b-b786bcda9f46"
      },
      "source": [
        "from google.colab import drive\n",
        "drive.mount('/content/drive')"
      ],
      "execution_count": null,
      "outputs": [
        {
          "output_type": "stream",
          "name": "stdout",
          "text": [
            "Mounted at /content/drive\n"
          ]
        }
      ]
    },
    {
      "cell_type": "markdown",
      "metadata": {
        "id": "3kasCPe-wNiL"
      },
      "source": [
        "Install correct versions of Detectron2 and any dependencies needed to run the code\n"
      ]
    },
    {
      "cell_type": "code",
      "metadata": {
        "id": "VkQfbgwOu6Sx",
        "colab": {
          "base_uri": "https://localhost:8080/"
        },
        "outputId": "ee876184-b412-4c7f-cac9-84100d8a141c",
        "collapsed": true
      },
      "source": [
        "import sys, os, distutils.core\n",
        "# Note: This is a faster way to install detectron2 in Colab, but it does not include all functionalities (e.g. compiled operators).\n",
        "# See https://detectron2.readthedocs.io/tutorials/install.html for full installation instructions\n",
        "!git clone 'https://github.com/facebookresearch/detectron2'\n",
        "dist = distutils.core.run_setup(\"./detectron2/setup.py\")\n",
        "!python -m pip install {' '.join([f\"'{x}'\" for x in dist.install_requires])}\n",
        "sys.path.insert(0, os.path.abspath('./detectron2'))"
      ],
      "execution_count": 1,
      "outputs": [
        {
          "output_type": "stream",
          "name": "stdout",
          "text": [
            "Cloning into 'detectron2'...\n",
            "remote: Enumerating objects: 15819, done.\u001b[K\n",
            "remote: Counting objects: 100% (76/76), done.\u001b[K\n",
            "remote: Compressing objects: 100% (59/59), done.\u001b[K\n",
            "remote: Total 15819 (delta 31), reused 43 (delta 17), pack-reused 15743 (from 1)\u001b[K\n",
            "Receiving objects: 100% (15819/15819), 6.39 MiB | 5.13 MiB/s, done.\n",
            "Resolving deltas: 100% (11523/11523), done.\n",
            "Ignoring dataclasses: markers 'python_version < \"3.7\"' don't match your environment\n",
            "Requirement already satisfied: Pillow>=7.1 in /usr/local/lib/python3.10/dist-packages (11.0.0)\n",
            "Requirement already satisfied: matplotlib in /usr/local/lib/python3.10/dist-packages (3.8.0)\n",
            "Requirement already satisfied: pycocotools>=2.0.2 in /usr/local/lib/python3.10/dist-packages (2.0.8)\n",
            "Requirement already satisfied: termcolor>=1.1 in /usr/local/lib/python3.10/dist-packages (2.5.0)\n",
            "Collecting yacs>=0.1.8\n",
            "  Downloading yacs-0.1.8-py3-none-any.whl.metadata (639 bytes)\n",
            "Requirement already satisfied: tabulate in /usr/local/lib/python3.10/dist-packages (0.9.0)\n",
            "Requirement already satisfied: cloudpickle in /usr/local/lib/python3.10/dist-packages (3.1.0)\n",
            "Requirement already satisfied: tqdm>4.29.0 in /usr/local/lib/python3.10/dist-packages (4.66.6)\n",
            "Requirement already satisfied: tensorboard in /usr/local/lib/python3.10/dist-packages (2.17.1)\n",
            "Collecting fvcore<0.1.6,>=0.1.5\n",
            "  Downloading fvcore-0.1.5.post20221221.tar.gz (50 kB)\n",
            "\u001b[2K     \u001b[90m━━━━━━━━━━━━━━━━━━━━━━━━━━━━━━━━━━━━━━━━\u001b[0m \u001b[32m50.2/50.2 kB\u001b[0m \u001b[31m3.2 MB/s\u001b[0m eta \u001b[36m0:00:00\u001b[0m\n",
            "\u001b[?25h  Preparing metadata (setup.py) ... \u001b[?25l\u001b[?25hdone\n",
            "Collecting iopath<0.1.10,>=0.1.7\n",
            "  Downloading iopath-0.1.9-py3-none-any.whl.metadata (370 bytes)\n",
            "Collecting omegaconf<2.4,>=2.1\n",
            "  Downloading omegaconf-2.3.0-py3-none-any.whl.metadata (3.9 kB)\n",
            "Collecting hydra-core>=1.1\n",
            "  Downloading hydra_core-1.3.2-py3-none-any.whl.metadata (5.5 kB)\n",
            "Collecting black\n",
            "  Downloading black-24.10.0-cp310-cp310-manylinux_2_17_x86_64.manylinux2014_x86_64.manylinux_2_28_x86_64.whl.metadata (79 kB)\n",
            "\u001b[2K     \u001b[90m━━━━━━━━━━━━━━━━━━━━━━━━━━━━━━━━━━━━━━━━\u001b[0m \u001b[32m79.2/79.2 kB\u001b[0m \u001b[31m6.3 MB/s\u001b[0m eta \u001b[36m0:00:00\u001b[0m\n",
            "\u001b[?25hRequirement already satisfied: packaging in /usr/local/lib/python3.10/dist-packages (24.2)\n",
            "Requirement already satisfied: contourpy>=1.0.1 in /usr/local/lib/python3.10/dist-packages (from matplotlib) (1.3.1)\n",
            "Requirement already satisfied: cycler>=0.10 in /usr/local/lib/python3.10/dist-packages (from matplotlib) (0.12.1)\n",
            "Requirement already satisfied: fonttools>=4.22.0 in /usr/local/lib/python3.10/dist-packages (from matplotlib) (4.55.1)\n",
            "Requirement already satisfied: kiwisolver>=1.0.1 in /usr/local/lib/python3.10/dist-packages (from matplotlib) (1.4.7)\n",
            "Requirement already satisfied: numpy<2,>=1.21 in /usr/local/lib/python3.10/dist-packages (from matplotlib) (1.26.4)\n",
            "Requirement already satisfied: pyparsing>=2.3.1 in /usr/local/lib/python3.10/dist-packages (from matplotlib) (3.2.0)\n",
            "Requirement already satisfied: python-dateutil>=2.7 in /usr/local/lib/python3.10/dist-packages (from matplotlib) (2.8.2)\n",
            "Requirement already satisfied: PyYAML in /usr/local/lib/python3.10/dist-packages (from yacs>=0.1.8) (6.0.2)\n",
            "Requirement already satisfied: absl-py>=0.4 in /usr/local/lib/python3.10/dist-packages (from tensorboard) (1.4.0)\n",
            "Requirement already satisfied: grpcio>=1.48.2 in /usr/local/lib/python3.10/dist-packages (from tensorboard) (1.68.1)\n",
            "Requirement already satisfied: markdown>=2.6.8 in /usr/local/lib/python3.10/dist-packages (from tensorboard) (3.7)\n",
            "Requirement already satisfied: protobuf!=4.24.0,>=3.19.6 in /usr/local/lib/python3.10/dist-packages (from tensorboard) (4.25.5)\n",
            "Requirement already satisfied: setuptools>=41.0.0 in /usr/local/lib/python3.10/dist-packages (from tensorboard) (75.1.0)\n",
            "Requirement already satisfied: six>1.9 in /usr/local/lib/python3.10/dist-packages (from tensorboard) (1.16.0)\n",
            "Requirement already satisfied: tensorboard-data-server<0.8.0,>=0.7.0 in /usr/local/lib/python3.10/dist-packages (from tensorboard) (0.7.2)\n",
            "Requirement already satisfied: werkzeug>=1.0.1 in /usr/local/lib/python3.10/dist-packages (from tensorboard) (3.1.3)\n",
            "Collecting portalocker (from iopath<0.1.10,>=0.1.7)\n",
            "  Downloading portalocker-3.0.0-py3-none-any.whl.metadata (8.5 kB)\n",
            "Collecting antlr4-python3-runtime==4.9.* (from omegaconf<2.4,>=2.1)\n",
            "  Downloading antlr4-python3-runtime-4.9.3.tar.gz (117 kB)\n",
            "\u001b[2K     \u001b[90m━━━━━━━━━━━━━━━━━━━━━━━━━━━━━━━━━━━━━━━━\u001b[0m \u001b[32m117.0/117.0 kB\u001b[0m \u001b[31m12.5 MB/s\u001b[0m eta \u001b[36m0:00:00\u001b[0m\n",
            "\u001b[?25h  Preparing metadata (setup.py) ... \u001b[?25l\u001b[?25hdone\n",
            "Requirement already satisfied: click>=8.0.0 in /usr/local/lib/python3.10/dist-packages (from black) (8.1.7)\n",
            "Collecting mypy-extensions>=0.4.3 (from black)\n",
            "  Downloading mypy_extensions-1.0.0-py3-none-any.whl.metadata (1.1 kB)\n",
            "Collecting pathspec>=0.9.0 (from black)\n",
            "  Downloading pathspec-0.12.1-py3-none-any.whl.metadata (21 kB)\n",
            "Requirement already satisfied: platformdirs>=2 in /usr/local/lib/python3.10/dist-packages (from black) (4.3.6)\n",
            "Requirement already satisfied: tomli>=1.1.0 in /usr/local/lib/python3.10/dist-packages (from black) (2.2.1)\n",
            "Requirement already satisfied: typing-extensions>=4.0.1 in /usr/local/lib/python3.10/dist-packages (from black) (4.12.2)\n",
            "Requirement already satisfied: MarkupSafe>=2.1.1 in /usr/local/lib/python3.10/dist-packages (from werkzeug>=1.0.1->tensorboard) (3.0.2)\n",
            "Downloading yacs-0.1.8-py3-none-any.whl (14 kB)\n",
            "Downloading iopath-0.1.9-py3-none-any.whl (27 kB)\n",
            "Downloading omegaconf-2.3.0-py3-none-any.whl (79 kB)\n",
            "\u001b[2K   \u001b[90m━━━━━━━━━━━━━━━━━━━━━━━━━━━━━━━━━━━━━━━━\u001b[0m \u001b[32m79.5/79.5 kB\u001b[0m \u001b[31m7.1 MB/s\u001b[0m eta \u001b[36m0:00:00\u001b[0m\n",
            "\u001b[?25hDownloading hydra_core-1.3.2-py3-none-any.whl (154 kB)\n",
            "\u001b[2K   \u001b[90m━━━━━━━━━━━━━━━━━━━━━━━━━━━━━━━━━━━━━━━━\u001b[0m \u001b[32m154.5/154.5 kB\u001b[0m \u001b[31m15.4 MB/s\u001b[0m eta \u001b[36m0:00:00\u001b[0m\n",
            "\u001b[?25hDownloading black-24.10.0-cp310-cp310-manylinux_2_17_x86_64.manylinux2014_x86_64.manylinux_2_28_x86_64.whl (1.8 MB)\n",
            "\u001b[2K   \u001b[90m━━━━━━━━━━━━━━━━━━━━━━━━━━━━━━━━━━━━━━━━\u001b[0m \u001b[32m1.8/1.8 MB\u001b[0m \u001b[31m49.2 MB/s\u001b[0m eta \u001b[36m0:00:00\u001b[0m\n",
            "\u001b[?25hDownloading mypy_extensions-1.0.0-py3-none-any.whl (4.7 kB)\n",
            "Downloading pathspec-0.12.1-py3-none-any.whl (31 kB)\n",
            "Downloading portalocker-3.0.0-py3-none-any.whl (19 kB)\n",
            "Building wheels for collected packages: fvcore, antlr4-python3-runtime\n",
            "  Building wheel for fvcore (setup.py) ... \u001b[?25l\u001b[?25hdone\n",
            "  Created wheel for fvcore: filename=fvcore-0.1.5.post20221221-py3-none-any.whl size=61396 sha256=cfc87ee8e8c0dc6033e2df956abe9f2920c41306d1c697c82edf68d011ad7915\n",
            "  Stored in directory: /root/.cache/pip/wheels/01/c0/af/77c1cf53a1be9e42a52b48e5af2169d40ec2e89f7362489dd0\n",
            "  Building wheel for antlr4-python3-runtime (setup.py) ... \u001b[?25l\u001b[?25hdone\n",
            "  Created wheel for antlr4-python3-runtime: filename=antlr4_python3_runtime-4.9.3-py3-none-any.whl size=144555 sha256=197dcedaf16e6ce7864eeaa1271b6594f1aab21350feb5d590ba5d0e12c10d75\n",
            "  Stored in directory: /root/.cache/pip/wheels/12/93/dd/1f6a127edc45659556564c5730f6d4e300888f4bca2d4c5a88\n",
            "Successfully built fvcore antlr4-python3-runtime\n",
            "Installing collected packages: antlr4-python3-runtime, yacs, portalocker, pathspec, omegaconf, mypy-extensions, iopath, hydra-core, black, fvcore\n",
            "Successfully installed antlr4-python3-runtime-4.9.3 black-24.10.0 fvcore-0.1.5.post20221221 hydra-core-1.3.2 iopath-0.1.9 mypy-extensions-1.0.0 omegaconf-2.3.0 pathspec-0.12.1 portalocker-3.0.0 yacs-0.1.8\n"
          ]
        }
      ]
    },
    {
      "cell_type": "markdown",
      "source": [
        "Need cavity detection Github repo to get model weights and code"
      ],
      "metadata": {
        "id": "6Gz_bzB2Q5Wd"
      }
    },
    {
      "cell_type": "code",
      "metadata": {
        "id": "9_Su5Pl1gJuY",
        "outputId": "63810ee9-920b-4559-8580-8fed56d3069c",
        "colab": {
          "base_uri": "https://localhost:8080/"
        }
      },
      "source": [
        "!git clone https://github.com/uw-cmg/cavity_defect_detection"
      ],
      "execution_count": 2,
      "outputs": [
        {
          "output_type": "stream",
          "name": "stdout",
          "text": [
            "Cloning into 'cavity_defect_detection'...\n",
            "remote: Enumerating objects: 852, done.\u001b[K\n",
            "remote: Counting objects: 100% (76/76), done.\u001b[K\n",
            "remote: Compressing objects: 100% (44/44), done.\u001b[K\n",
            "remote: Total 852 (delta 31), reused 72 (delta 30), pack-reused 776 (from 1)\u001b[K\n",
            "Receiving objects: 100% (852/852), 781.67 MiB | 27.93 MiB/s, done.\n",
            "Resolving deltas: 100% (31/31), done.\n",
            "Updating files: 100% (905/905), done.\n",
            "Filtering content: 100% (2/2), 669.93 MiB | 53.51 MiB/s, done.\n"
          ]
        }
      ]
    },
    {
      "cell_type": "markdown",
      "metadata": {
        "id": "pffVw5faV2Py"
      },
      "source": [
        "\n",
        "\n",
        "Here, the user sets the path to the folder of images to predict on, the values of NM_PER_PIXEL_LIST for each image, and the savepath to save the images with predictions, and key statistics in excel format\n"
      ]
    },
    {
      "cell_type": "code",
      "source": [
        "import os\n",
        "import sys\n",
        "path = './cavity_defect_detection'\n",
        "sys.path.append(path)\n",
        "sys.path.insert(0, os.path.abspath('./detectron2'))\n"
      ],
      "metadata": {
        "id": "xqRsJYo3OcDK"
      },
      "execution_count": 3,
      "outputs": []
    },
    {
      "cell_type": "code",
      "source": [
        "NM_PER_PIXEL_LIST = [0.5] # Enter a nm/pixel conversion factor for each image in test set\n",
        "IMAGE_THICKNESS_LIST = [50]\n",
        "SAVE_PATH = '.'\n",
        "NUM_CLASSES = 1\n",
        "CLASS_NAMES = ['void']\n",
        "CLASS_COLORS = [(0, 0, 255)]\n",
        "MODEL_PATH = os.path.join(path, 'models/assessment_model/model_assess.pth')\n",
        "MODEL_PATH_BASE = os.path.join(path, 'models/assessment_model')\n",
        "IMAGE_PATH = os.path.join(path, 'images/assessment_images')\n",
        "IMAGE_LIST = sorted(i for i in os.listdir(IMAGE_PATH))\n",
        "ANNO_PATH = os.path.join(path, 'annotations/assessment_annotations/val_corrected.json')\n",
        "\n",
        "print(IMAGE_LIST)\n"
      ],
      "metadata": {
        "id": "XE2zsEgbOknl",
        "outputId": "5ad15759-b224-47dc-9783-2debdcd794da",
        "colab": {
          "base_uri": "https://localhost:8080/"
        }
      },
      "execution_count": 6,
      "outputs": [
        {
          "output_type": "stream",
          "name": "stdout",
          "text": [
            "['00003.png', '00004.png', '00005.png', '00007.png', '00015.png', '00018.png', '00020.png', '00023.png', '00024.png', '00026.png', '00040.png', '00051.png', '00056.png', '00064.png', '00070.png', '00071.png', '00073.png', '00075.png', '00084.png', '00087.png', '00098.png', '00101.png', '00104.png', '00113.png', '00124.png', '00130.png', '00134.png', '00142.png', '00153.png', '00155.png', '00156.png', '00163.png', '00167.png', '00169.png', '00171.png', '00182.png', '00184.png', '00187.png', '00199.png', '00200.png', '00201.png', '00202.png', '00203.png', '00211.png', '00222.png', '00231.png', '00245.png', '00257.png', '00263.png', '00284.png', '00290.png', '00295.png', '00297.png', '00300.png', '00301.png', '00302.png', '00307.png', '00317.png', '00319.png', '00325.png', '00328.png', '00341.png', '00342.png', '00344.png', '00347.png', '00348.png', '00354.png', '00355.png', '00356.png', '00357.png', '00358.png', '00360.png', '00363.png', '00364.png', '01.jpg', '02.jpg', '03.jpg', '04.jpg', '05.jpg', '06.jpg', '07.jpg', '08.jpg', '09.jpg', '10 200K -1um.png', '10 59K.png', '10.jpg', '100dpa Voids2 over 512.png', '100dpa Voids2 under 512.png', '11.jpg', '12.jpg', '13.jpg', '14.jpg', '15.jpg', '16.jpg', '17.jpg', '18.jpg', '19.jpg', '2_-1um 200K x362.35 y70.68 z20.42.png', '4 59K.png', '4-2 115K -1um.png', '4-3 155K -1um.png', '5-2 93K -1um.png', '5-3 1um.png', '5-3 59K -1um.png', '5-4 2um.png', '5_115K.png', '5_78K.png', '9_200K.png', '9_93K.png', 'CTEM 150kx c1 a0b0 _0006.png', 'CTEM 150kx c1 a0b0 _0014.png', 'CTEM 150kx c1 a0b0 _0015.png', 'CTEM 150kx c1 a0b0 _0024.png', 'CTEM 150kx c1 a0b0 _0026.png', 'CTEM 150kx c1 a0b0 _0034.png', 'CTEM 150kx c1 a0b0 _0044.png', 'CTEM 150kx c1 a0b0 _0047.png', 'CTEM 150kx c1 a0b0 _0062.png', 'CTEM BF 150 kx area2 a0b0_0021.png', 'HT9 33dpa 360C_0023.png', 'HT9 33dpa 360C_0031.png', 'T-X=0.2, 2962.3nm.png', 'T-X=10.6, 0nm.png', 'cavity1 x362.59 y71.13 z20.42.png']\n"
          ]
        }
      ]
    },
    {
      "cell_type": "code",
      "source": [
        "import run_final_model_predictions\n",
        "run_final_model_predictions.run_assess(ANNO_PATH=ANNO_PATH,\n",
        "                                       IMAGE_LIST=IMAGE_LIST,\n",
        "                            IMAGE_PATH=IMAGE_PATH,\n",
        "                            MODEL_PATH=MODEL_PATH,\n",
        "                            MODEL_PATH_BASE= MODEL_PATH_BASE,\n",
        "                            SAVE_PATH=SAVE_PATH,\n",
        "                            NM_PER_PIXEL_LIST=NM_PER_PIXEL_LIST,\n",
        "                            IMAGE_THICKNESS_LIST=IMAGE_THICKNESS_LIST,\n",
        "                            NUM_CLASSES=NUM_CLASSES,\n",
        "                            CLASS_NAMES=CLASS_NAMES,\n",
        "                            CLASS_COLORS=CLASS_COLORS)"
      ],
      "metadata": {
        "colab": {
          "base_uri": "https://localhost:8080/",
          "height": 251
        },
        "id": "0H6euihhPHLx",
        "outputId": "f887da49-dc26-48d9-c168-2f4f790e129c"
      },
      "execution_count": 7,
      "outputs": [
        {
          "output_type": "error",
          "ename": "SyntaxError",
          "evalue": "invalid syntax (run_final_model_predictions.py, line 15)",
          "traceback": [
            "Traceback \u001b[0;36m(most recent call last)\u001b[0m:\n",
            "  File \u001b[1;32m\"/usr/local/lib/python3.10/dist-packages/IPython/core/interactiveshell.py\"\u001b[0m, line \u001b[1;32m3553\u001b[0m, in \u001b[1;35mrun_code\u001b[0m\n    exec(code_obj, self.user_global_ns, self.user_ns)\n",
            "\u001b[0;36m  File \u001b[0;32m\"<ipython-input-7-2b049c2c99be>\"\u001b[0;36m, line \u001b[0;32m1\u001b[0;36m, in \u001b[0;35m<cell line: 1>\u001b[0;36m\u001b[0m\n\u001b[0;31m    import run_final_model_predictions\u001b[0m\n",
            "\u001b[0;36m  File \u001b[0;32m\"/content/./cavity_defect_detection/run_final_model_predictions.py\"\u001b[0;36m, line \u001b[0;32m15\u001b[0m\n\u001b[0;31m    from sklearn.metrics impor r2_score, mean_absolute_error, mean_squared_error\u001b[0m\n\u001b[0m                         ^\u001b[0m\n\u001b[0;31mSyntaxError\u001b[0m\u001b[0;31m:\u001b[0m invalid syntax\n"
          ]
        }
      ]
    },
    {
      "cell_type": "code",
      "source": [],
      "metadata": {
        "id": "HtWP7bUvxKm3"
      },
      "execution_count": null,
      "outputs": []
    }
  ]
}